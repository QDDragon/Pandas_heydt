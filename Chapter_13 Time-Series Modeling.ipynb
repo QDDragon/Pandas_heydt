{
 "cells": [
  {
   "cell_type": "code",
   "execution_count": 1,
   "metadata": {},
   "outputs": [],
   "source": [
    "import numpy as np"
   ]
  },
  {
   "cell_type": "code",
   "execution_count": 2,
   "metadata": {},
   "outputs": [],
   "source": [
    "import pandas as pd"
   ]
  },
  {
   "cell_type": "code",
   "execution_count": 3,
   "metadata": {},
   "outputs": [],
   "source": [
    "import datetime\n",
    "from datetime import datetime, date\n",
    "import matplotlib as plt\n",
    "%matplotlib inline"
   ]
  },
  {
   "cell_type": "markdown",
   "metadata": {},
   "source": [
    "# The datetime, day, and time objects"
   ]
  },
  {
   "cell_type": "code",
   "execution_count": 6,
   "metadata": {},
   "outputs": [
    {
     "data": {
      "text/plain": [
       "datetime.datetime(2014, 12, 15, 0, 0)"
      ]
     },
     "execution_count": 6,
     "metadata": {},
     "output_type": "execute_result"
    }
   ],
   "source": [
    "datetime(2014, 12, 15) #create datetime object by three parameter; 15 is days, 12 is month; default houre and minute is 0"
   ]
  },
  {
   "cell_type": "code",
   "execution_count": 7,
   "metadata": {},
   "outputs": [
    {
     "data": {
      "text/plain": [
       "datetime.datetime(2014, 12, 15, 17, 30)"
      ]
     },
     "execution_count": 7,
     "metadata": {},
     "output_type": "execute_result"
    }
   ],
   "source": [
    "datetime(2014, 12, 15, 17, 30) # 5h30 pm"
   ]
  },
  {
   "cell_type": "code",
   "execution_count": 8,
   "metadata": {},
   "outputs": [
    {
     "data": {
      "text/plain": [
       "datetime.datetime(2020, 4, 13, 14, 34, 54, 886034)"
      ]
     },
     "execution_count": 8,
     "metadata": {},
     "output_type": "execute_result"
    }
   ],
   "source": [
    "# get the local \"now\" (date and time)\n",
    "# can take a timezone, but that's not demonstrated here\n",
    "datetime.now()"
   ]
  },
  {
   "cell_type": "code",
   "execution_count": 9,
   "metadata": {},
   "outputs": [
    {
     "data": {
      "text/plain": [
       "datetime.date(2014, 12, 15)"
      ]
     },
     "execution_count": 9,
     "metadata": {},
     "output_type": "execute_result"
    }
   ],
   "source": [
    "# a date without time can be represented by creating a date using a datetime object: datetime.date\n",
    "datetime.date(datetime(2014, 12, 15))"
   ]
  },
  {
   "cell_type": "code",
   "execution_count": 10,
   "metadata": {},
   "outputs": [
    {
     "data": {
      "text/plain": [
       "datetime.date(2020, 4, 13)"
      ]
     },
     "execution_count": 10,
     "metadata": {},
     "output_type": "execute_result"
    }
   ],
   "source": [
    "# get just the current date\n",
    "datetime.now().date()"
   ]
  },
  {
   "cell_type": "code",
   "execution_count": 11,
   "metadata": {},
   "outputs": [
    {
     "data": {
      "text/plain": [
       "datetime.time(17, 30)"
      ]
     },
     "execution_count": 11,
     "metadata": {},
     "output_type": "execute_result"
    }
   ],
   "source": [
    "# get just a time from a datetime\n",
    "datetime.time(datetime(2014, 12, 15, 17, 30))"
   ]
  },
  {
   "cell_type": "code",
   "execution_count": 12,
   "metadata": {},
   "outputs": [
    {
     "data": {
      "text/plain": [
       "datetime.time(14, 45, 54, 233906)"
      ]
     },
     "execution_count": 12,
     "metadata": {},
     "output_type": "execute_result"
    }
   ],
   "source": [
    "# get the current local time\n",
    "datetime.now().time()"
   ]
  },
  {
   "cell_type": "markdown",
   "metadata": {},
   "source": [
    "# Timestamp objects"
   ]
  },
  {
   "cell_type": "code",
   "execution_count": 19,
   "metadata": {},
   "outputs": [
    {
     "data": {
      "text/plain": [
       "Timestamp('2014-12-15 00:00:00')"
      ]
     },
     "execution_count": 19,
     "metadata": {},
     "output_type": "execute_result"
    }
   ],
   "source": [
    "\"\"\"\n",
    "A pandas Timestamp is based on the datetime64 dtype\n",
    "and has higher precision than the Python datetime object. In pandas, Timestamp objects\n",
    "are generally interchangeable with datetime objects\n",
    "\"\"\"\n",
    "#Create a timestamp representing a specific date\n",
    "pd.Timestamp('2014-12-15')"
   ]
  },
  {
   "cell_type": "code",
   "execution_count": 20,
   "metadata": {},
   "outputs": [
    {
     "data": {
      "text/plain": [
       "Timestamp('2014-12-15 17:30:00')"
      ]
     },
     "execution_count": 20,
     "metadata": {},
     "output_type": "execute_result"
    }
   ],
   "source": [
    "# a timestamp with both date and time\n",
    "pd.Timestamp('2014-12-15 17:30')"
   ]
  },
  {
   "cell_type": "code",
   "execution_count": 21,
   "metadata": {},
   "outputs": [
    {
     "data": {
      "text/plain": [
       "Timestamp('2020-04-13 17:30:00')"
      ]
     },
     "execution_count": 21,
     "metadata": {},
     "output_type": "execute_result"
    }
   ],
   "source": [
    "# timestamp with just a time which adds in the current local date\n",
    "pd.Timestamp('17:30')"
   ]
  },
  {
   "cell_type": "code",
   "execution_count": 22,
   "metadata": {},
   "outputs": [
    {
     "data": {
      "text/plain": [
       "Timestamp('2020-04-13 14:59:18.616899')"
      ]
     },
     "execution_count": 22,
     "metadata": {},
     "output_type": "execute_result"
    }
   ],
   "source": [
    "# get the current date and time (now)\n",
    "pd.Timestamp(\"now\")"
   ]
  },
  {
   "cell_type": "markdown",
   "metadata": {},
   "source": [
    "# Using a Timedelta to represent a time interval"
   ]
  },
  {
   "cell_type": "code",
   "execution_count": 24,
   "metadata": {},
   "outputs": [
    {
     "data": {
      "text/plain": [
       "'To represent a difference in time we will use the pandas Timedelta object'"
      ]
     },
     "execution_count": 24,
     "metadata": {},
     "output_type": "execute_result"
    }
   ],
   "source": [
    "\"\"\"To represent a difference in time we will use the pandas Timedelta object\"\"\""
   ]
  },
  {
   "cell_type": "code",
   "execution_count": 25,
   "metadata": {},
   "outputs": [
    {
     "data": {
      "text/plain": [
       "datetime.datetime(2014, 12, 1, 0, 0)"
      ]
     },
     "execution_count": 25,
     "metadata": {},
     "output_type": "execute_result"
    }
   ],
   "source": [
    "#uses a Timedelta object to calculate a one-day increase in the time from the specified date:\n",
    "# what is one day from 2014-11-30?\n",
    "today = datetime(2014, 11, 30)\n",
    "tomorrow = today + pd.Timedelta(days=1)\n",
    "tomorrow"
   ]
  },
  {
   "cell_type": "code",
   "execution_count": 26,
   "metadata": {},
   "outputs": [
    {
     "data": {
      "text/plain": [
       "datetime.timedelta(days=4)"
      ]
     },
     "execution_count": 26,
     "metadata": {},
     "output_type": "execute_result"
    }
   ],
   "source": [
    "# how many days between these two dates?\n",
    "date1 = datetime(2014, 12, 2)\n",
    "date2 = datetime(2014, 11, 28)\n",
    "date1 - date2"
   ]
  },
  {
   "cell_type": "markdown",
   "metadata": {},
   "source": [
    "# Indexing using DatetimeIndex"
   ]
  },
  {
   "cell_type": "code",
   "execution_count": 28,
   "metadata": {},
   "outputs": [
    {
     "data": {
      "text/plain": [
       "'time-series functionality in pandas revolves around the use of specialized\\nindexes that represent measurements of data at one or more timestamps\\n\\nThese indexes in pandas are referred to as DateTimeIndex objects\\n'"
      ]
     },
     "execution_count": 28,
     "metadata": {},
     "output_type": "execute_result"
    }
   ],
   "source": [
    "\"\"\"time-series functionality in pandas revolves around the use of specialized\n",
    "indexes that represent measurements of data at one or more timestamps\n",
    "\n",
    "These indexes in pandas are referred to as DateTimeIndex objects\n",
    "\"\"\""
   ]
  },
  {
   "cell_type": "code",
   "execution_count": 29,
   "metadata": {},
   "outputs": [
    {
     "data": {
      "text/plain": [
       "2014-08-01   -0.239395\n",
       "2014-08-02    1.155256\n",
       "dtype: float64"
      ]
     },
     "execution_count": 29,
     "metadata": {},
     "output_type": "execute_result"
    }
   ],
   "source": [
    "#creates a DateTime index by passing a list of datetime objects to a Series:\n",
    "dates = [datetime(2014, 8, 1), datetime(2014, 8, 2)]\n",
    "ts = pd.Series(np.random.randn(2), dates)\n",
    "ts\n",
    "\"\"\"This Series has taken the DateTime objects and constructed a DatetimeIndex from the\n",
    "date values. Each value of that index is a Timestamp object.\"\"\""
   ]
  },
  {
   "cell_type": "code",
   "execution_count": 30,
   "metadata": {},
   "outputs": [
    {
     "data": {
      "text/plain": [
       "pandas.core.indexes.datetimes.DatetimeIndex"
      ]
     },
     "execution_count": 30,
     "metadata": {},
     "output_type": "execute_result"
    }
   ],
   "source": [
    "    # what is the type of the index?\n",
    "type(ts.index)"
   ]
  },
  {
   "cell_type": "code",
   "execution_count": 31,
   "metadata": {},
   "outputs": [
    {
     "data": {
      "text/plain": [
       "pandas._libs.tslibs.timestamps.Timestamp"
      ]
     },
     "execution_count": 31,
     "metadata": {},
     "output_type": "execute_result"
    }
   ],
   "source": [
    "    # and we can see it is a collection of timestamps\n",
    "type(ts.index[0])"
   ]
  },
  {
   "cell_type": "code",
   "execution_count": 32,
   "metadata": {},
   "outputs": [
    {
     "data": {
      "text/plain": [
       "2014-08-01    0.469112\n",
       "2014-08-02   -0.282863\n",
       "dtype: float64"
      ]
     },
     "execution_count": 32,
     "metadata": {},
     "output_type": "execute_result"
    }
   ],
   "source": [
    "# create from just a list of dates as strings!\n",
    "np.random.seed(123456)\n",
    "dates = ['2014-08-01', '2014-08-02']\n",
    "ts = pd.Series(np.random.randn(2), dates)\n",
    "ts"
   ]
  },
  {
   "cell_type": "code",
   "execution_count": 33,
   "metadata": {},
   "outputs": [
    {
     "name": "stdout",
     "output_type": "stream",
     "text": [
      "2014-08-01 00:00:00\n",
      "2014-08-02 00:00:00\n",
      "2014-08-03 00:00:00\n",
      "NaT\n"
     ]
    }
   ],
   "source": [
    "\"\"\"\n",
    "pandas provides a utility function in pd.to_datetime() which takes a sequence of\n",
    "similar- or mixed-type objects which pandas attempts to convert into Timestamp objects\n",
    "and those into a DatetimeIndex. If an object cannot be converted, the pandas will create a NaT\n",
    "\"\"\"\n",
    "# convert a sequence of objects to a DatetimeIndex\n",
    "dti = pd.to_datetime(['Aug 1, 2014', \n",
    "                      '2014-08-02', \n",
    "                      '2014.8.3', \n",
    "                      None])\n",
    "for l in dti: print (l)"
   ]
  },
  {
   "cell_type": "code",
   "execution_count": 34,
   "metadata": {},
   "outputs": [
    {
     "data": {
      "text/plain": [
       "DatetimeIndex(['2014-08-01', 'NaT'], dtype='datetime64[ns]', freq=None)"
      ]
     },
     "execution_count": 34,
     "metadata": {},
     "output_type": "execute_result"
    }
   ],
   "source": [
    "# pd.to_datetime(['Aug 1, 2014', 'foo'])\n",
    "# this throws an error in 0.20.1\n",
    "# force the conversion, NaT for items that dont work\n",
    "pd.to_datetime(['Aug 1, 2014', 'foo'], errors=\"coerce\")"
   ]
  },
  {
   "cell_type": "code",
   "execution_count": 35,
   "metadata": {},
   "outputs": [
    {
     "data": {
      "text/plain": [
       "2014-08-01    0.469112\n",
       "2014-08-02   -0.282863\n",
       "2014-08-03   -1.509059\n",
       "2014-08-04   -1.135632\n",
       "2014-08-05    1.212112\n",
       "2014-08-06   -0.173215\n",
       "2014-08-07    0.119209\n",
       "2014-08-08   -1.044236\n",
       "2014-08-09   -0.861849\n",
       "2014-08-10   -2.104569\n",
       "Freq: D, dtype: float64"
      ]
     },
     "execution_count": 35,
     "metadata": {},
     "output_type": "execute_result"
    }
   ],
   "source": [
    "# create a range of dates starting at a specific date\n",
    "# and for a specific number of days, creating a Series\n",
    "np.random.seed(123456)\n",
    "periods = pd.date_range('8/1/2014', periods=10) #create 10 consecutive days\n",
    "date_series = pd.Series(np.random.randn(10), index=periods)\n",
    "date_series"
   ]
  },
  {
   "cell_type": "code",
   "execution_count": 36,
   "metadata": {},
   "outputs": [
    {
     "data": {
      "text/plain": [
       "2014-08-04   -1.135632\n",
       "2014-08-05    1.212112\n",
       "2014-08-06   -0.173215\n",
       "2014-08-07    0.119209\n",
       "Freq: D, dtype: float64"
      ]
     },
     "execution_count": 36,
     "metadata": {},
     "output_type": "execute_result"
    }
   ],
   "source": [
    "# slice by location\n",
    "subset = date_series[3:7] #slide from the location of time index (day 4 - day 7)\n",
    "subset"
   ]
  },
  {
   "cell_type": "code",
   "execution_count": 37,
   "metadata": {},
   "outputs": [
    {
     "data": {
      "text/plain": [
       "2014-08-04       10\n",
       "2014-08-05      100\n",
       "2014-08-06     1000\n",
       "2014-08-07    10000\n",
       "Freq: D, dtype: int64"
      ]
     },
     "execution_count": 37,
     "metadata": {},
     "output_type": "execute_result"
    }
   ],
   "source": [
    "# a Series to demonstrate alignment\n",
    "s2 = pd.Series([10, 100, 1000, 10000], subset.index) # cac ngay trong subset duoc alighnment voi elements in the list\n",
    "s2"
   ]
  },
  {
   "cell_type": "code",
   "execution_count": 38,
   "metadata": {},
   "outputs": [
    {
     "data": {
      "text/plain": [
       "2014-08-01             NaN\n",
       "2014-08-02             NaN\n",
       "2014-08-03             NaN\n",
       "2014-08-04        8.864368\n",
       "2014-08-05      101.212112\n",
       "2014-08-06      999.826785\n",
       "2014-08-07    10000.119209\n",
       "2014-08-08             NaN\n",
       "2014-08-09             NaN\n",
       "2014-08-10             NaN\n",
       "Freq: D, dtype: float64"
      ]
     },
     "execution_count": 38,
     "metadata": {},
     "output_type": "execute_result"
    }
   ],
   "source": [
    "# demonstrate alignment by date on a subset of items\n",
    "date_series + s2 #only the values which has time index matched are counted"
   ]
  },
  {
   "cell_type": "code",
   "execution_count": 39,
   "metadata": {},
   "outputs": [
    {
     "data": {
      "text/plain": [
       "2013-01-01    0\n",
       "2013-01-02    0\n",
       "2013-01-03    0\n",
       "2013-01-04    0\n",
       "2013-01-05    0\n",
       "             ..\n",
       "2014-12-27    0\n",
       "2014-12-28    0\n",
       "2014-12-29    0\n",
       "2014-12-30    0\n",
       "2014-12-31    0\n",
       "Freq: D, Length: 730, dtype: int64"
      ]
     },
     "execution_count": 39,
     "metadata": {},
     "output_type": "execute_result"
    }
   ],
   "source": [
    "# a two year range of daily data in a Series\n",
    "s3 = pd.Series(0, pd.date_range('2013-01-01', '2014-12-31'))\n",
    "s3"
   ]
  },
  {
   "cell_type": "code",
   "execution_count": 40,
   "metadata": {},
   "outputs": [
    {
     "data": {
      "text/plain": [
       "2013-01-01    0\n",
       "2013-01-02    0\n",
       "2013-01-03    0\n",
       "2013-01-04    0\n",
       "2013-01-05    0\n",
       "             ..\n",
       "2013-12-27    0\n",
       "2013-12-28    0\n",
       "2013-12-29    0\n",
       "2013-12-30    0\n",
       "2013-12-31    0\n",
       "Freq: D, Length: 365, dtype: int64"
      ]
     },
     "execution_count": 40,
     "metadata": {},
     "output_type": "execute_result"
    }
   ],
   "source": [
    "# only select those in 2013\n",
    "s3['2013']"
   ]
  },
  {
   "cell_type": "code",
   "execution_count": 41,
   "metadata": {},
   "outputs": [
    {
     "data": {
      "text/plain": [
       "2014-05-01    0\n",
       "2014-05-02    0\n",
       "2014-05-03    0\n",
       "2014-05-04    0\n",
       "2014-05-05    0\n",
       "2014-05-06    0\n",
       "2014-05-07    0\n",
       "2014-05-08    0\n",
       "2014-05-09    0\n",
       "2014-05-10    0\n",
       "2014-05-11    0\n",
       "2014-05-12    0\n",
       "2014-05-13    0\n",
       "2014-05-14    0\n",
       "2014-05-15    0\n",
       "2014-05-16    0\n",
       "2014-05-17    0\n",
       "2014-05-18    0\n",
       "2014-05-19    0\n",
       "2014-05-20    0\n",
       "2014-05-21    0\n",
       "2014-05-22    0\n",
       "2014-05-23    0\n",
       "2014-05-24    0\n",
       "2014-05-25    0\n",
       "2014-05-26    0\n",
       "2014-05-27    0\n",
       "2014-05-28    0\n",
       "2014-05-29    0\n",
       "2014-05-30    0\n",
       "2014-05-31    0\n",
       "Freq: D, dtype: int64"
      ]
     },
     "execution_count": 41,
     "metadata": {},
     "output_type": "execute_result"
    }
   ],
   "source": [
    "# 31 items for May 2014\n",
    "s3['2014-05']"
   ]
  },
  {
   "cell_type": "code",
   "execution_count": 44,
   "metadata": {},
   "outputs": [
    {
     "data": {
      "text/plain": [
       "2014-08-01    0\n",
       "2014-08-02    0\n",
       "2014-08-03    0\n",
       "2014-08-04    0\n",
       "2014-08-05    0\n",
       "             ..\n",
       "2014-09-26    0\n",
       "2014-09-27    0\n",
       "2014-09-28    0\n",
       "2014-09-29    0\n",
       "2014-09-30    0\n",
       "Freq: D, Length: 61, dtype: int64"
      ]
     },
     "execution_count": 44,
     "metadata": {},
     "output_type": "execute_result"
    }
   ],
   "source": [
    "# items between two months\n",
    "s3['2014-08':'2014-09']"
   ]
  },
  {
   "cell_type": "markdown",
   "metadata": {},
   "source": [
    "# Creating time-series data with specific frequencies"
   ]
  },
  {
   "cell_type": "code",
   "execution_count": 54,
   "metadata": {},
   "outputs": [
    {
     "data": {
      "text/plain": [
       "2014-08-01 00:00:00    0.469112\n",
       "2014-08-01 00:01:00   -0.282863\n",
       "2014-08-01 00:02:00   -1.509059\n",
       "2014-08-01 00:03:00   -1.135632\n",
       "2014-08-01 00:04:00    1.212112\n",
       "Freq: T, dtype: float64"
      ]
     },
     "execution_count": 54,
     "metadata": {},
     "output_type": "execute_result"
    }
   ],
   "source": [
    "# generate a Series at one minute intervals\n",
    "# Note: more alias search (Offset aliases) in:\n",
    "# https://pandas.pydata.org/pandas-docs/stable/user_guide/timeseries.html#timeseries-offset-aliases\n",
    "# B business day frequency; D day frequency; W weekly frequency; M month frequency....\n",
    "np.random.seed(123456)\n",
    "bymin = pd.Series(np.random.randn(24*60*90), \n",
    "                  pd.date_range('2014-08-01', \n",
    "                                '2014-10-29 23:59',\n",
    "                                freq='T')) #default = D: daily frequency; T: 1 minute intervals sequence\n",
    "bymin[:5]"
   ]
  },
  {
   "cell_type": "code",
   "execution_count": 52,
   "metadata": {},
   "outputs": [
    {
     "data": {
      "text/plain": [
       "2014-08-01    0.469112\n",
       "2014-08-03   -0.282863\n",
       "2014-08-05   -1.509059\n",
       "2014-08-07   -1.135632\n",
       "2014-08-09    1.212112\n",
       "Freq: 2D, dtype: float64"
      ]
     },
     "execution_count": 52,
     "metadata": {},
     "output_type": "execute_result"
    }
   ],
   "source": [
    "#np.random.seed(123456)\n",
    "#bymin = pd.Series(np.random.randn(5), \n",
    "#                  pd.date_range('2014-08-01', \n",
    "#                                '2014-08-10',\n",
    "#                                freq='2D')) # Frequency strings can have multiples \n",
    "#bymin[:5]"
   ]
  },
  {
   "cell_type": "code",
   "execution_count": 55,
   "metadata": {},
   "outputs": [
    {
     "data": {
      "text/plain": [
       "2014-08-01 00:02:00   -1.509059\n",
       "2014-08-01 00:03:00   -1.135632\n",
       "2014-08-01 00:04:00    1.212112\n",
       "2014-08-01 00:05:00   -0.173215\n",
       "2014-08-01 00:06:00    0.119209\n",
       "2014-08-01 00:07:00   -1.044236\n",
       "Freq: T, dtype: float64"
      ]
     },
     "execution_count": 55,
     "metadata": {},
     "output_type": "execute_result"
    }
   ],
   "source": [
    "# slice down to the minute\n",
    "bymin['2014-08-01 00:02':'2014-08-01 00:07']"
   ]
  },
  {
   "cell_type": "code",
   "execution_count": 56,
   "metadata": {},
   "outputs": [
    {
     "data": {
      "text/plain": [
       "DatetimeIndex(['2014-08-29', '2014-09-01', '2014-09-02', '2014-09-03',\n",
       "               '2014-09-04', '2014-09-05'],\n",
       "              dtype='datetime64[ns]', freq='B')"
      ]
     },
     "execution_count": 56,
     "metadata": {},
     "output_type": "execute_result"
    }
   ],
   "source": [
    "# generate a series based upon business days\n",
    "days = pd.date_range('2014-08-29', '2014-09-05', freq='B') # 2 days was skiped because they are weekend\n",
    "days"
   ]
  },
  {
   "cell_type": "code",
   "execution_count": 4,
   "metadata": {},
   "outputs": [
    {
     "data": {
      "text/plain": [
       "DatetimeIndex(['2014-08-01 12:10:01', '2014-08-01 12:10:02',\n",
       "               '2014-08-01 12:10:03', '2014-08-01 12:10:04',\n",
       "               '2014-08-01 12:10:05'],\n",
       "              dtype='datetime64[ns]', freq='S')"
      ]
     },
     "execution_count": 4,
     "metadata": {},
     "output_type": "execute_result"
    }
   ],
   "source": [
    "\"\"\"\n",
    "A range can be created starting at a particular date and time, with a specific frequency, and\n",
    "for a specific number of periods using the periods parameter. The following creates a 5-item DatetimeIndex \n",
    "starting at 2014-08-01 12:10:01 and at 1-second intervals:\n",
    "\"\"\"\n",
    "# periods will use the frequency as the increment\n",
    "pd.date_range('2014-08-01 12:10:01', freq='S', periods=5) #S: second"
   ]
  },
  {
   "cell_type": "markdown",
   "metadata": {},
   "source": [
    "# Date offsets"
   ]
  },
  {
   "cell_type": "code",
   "execution_count": 6,
   "metadata": {},
   "outputs": [
    {
     "data": {
      "text/plain": [
       "Timestamp('2014-08-30 00:00:00')"
      ]
     },
     "execution_count": 6,
     "metadata": {},
     "output_type": "execute_result"
    }
   ],
   "source": [
    "\"\"\"\n",
    "Frequencies in pandas are represented using date offsets\n",
    "We have touched on this concept at the beginning of the chapter when discussing Timedelta objects. \n",
    "pandas extends the capabilities of these using the concept of DateOffset objects. They are objects which\n",
    "represent knowledge of how to integrate time offsets and frequencies relative to DatetimeIndex objects.\n",
    "\n",
    "'M', 'D', using in freq parameter in pd.date_range() are translated into an instance of the pandas DateOffset\n",
    "object.\n",
    "\n",
    "DateOffset objects can be used in various scenarios:\n",
    "    They can be added or subtracted to obtain a shifted date\n",
    "    They can be multiplied by an integer (positive or negative) so that the increment will be applied multiple times\n",
    "    They have rollforward and rollback methods to move a date forward or backward to the next or previous \"offset date\n",
    "\"\"\"\n",
    "# calculate a one day offset from 2014-8-29\n",
    "d = datetime(2014, 8, 29)\n",
    "do = pd.DateOffset(days = 1) \n",
    "d + do"
   ]
  },
  {
   "cell_type": "code",
   "execution_count": 8,
   "metadata": {},
   "outputs": [
    {
     "data": {
      "text/plain": [
       "Timestamp('2014-09-01 00:00:00')"
      ]
     },
     "execution_count": 8,
     "metadata": {},
     "output_type": "execute_result"
    }
   ],
   "source": [
    "# import the data offset types\n",
    "from pandas.tseries.offsets import *\n",
    "# calculate one business day from 2014-8-31\n",
    "d + BusinessDay()"
   ]
  },
  {
   "cell_type": "code",
   "execution_count": 9,
   "metadata": {},
   "outputs": [
    {
     "data": {
      "text/plain": [
       "Timestamp('2014-09-02 00:00:00')"
      ]
     },
     "execution_count": 9,
     "metadata": {},
     "output_type": "execute_result"
    }
   ],
   "source": [
    "# determine 2 business days from 2014-8-29\n",
    "d + 2 * BusinessDay()"
   ]
  },
  {
   "cell_type": "code",
   "execution_count": 11,
   "metadata": {},
   "outputs": [
    {
     "data": {
      "text/plain": [
       "Timestamp('2014-09-30 00:00:00')"
      ]
     },
     "execution_count": 11,
     "metadata": {},
     "output_type": "execute_result"
    }
   ],
   "source": [
    "#using a BMonthEnd object to calculate the last business day of a month from a given date (in this case, 2014-09-02)\n",
    "    # what is the next business month end from a specific date 2014-09-02?\n",
    "d + BMonthEnd()"
   ]
  },
  {
   "cell_type": "code",
   "execution_count": 12,
   "metadata": {},
   "outputs": [
    {
     "data": {
      "text/plain": [
       "Timestamp('2014-09-30 00:00:00')"
      ]
     },
     "execution_count": 12,
     "metadata": {},
     "output_type": "execute_result"
    }
   ],
   "source": [
    "# calculate the next month end by rolling forward from a specific date\n",
    "BMonthEnd().rollforward(datetime(2014, 9, 15))"
   ]
  },
  {
   "cell_type": "code",
   "execution_count": 13,
   "metadata": {},
   "outputs": [
    {
     "data": {
      "text/plain": [
       "Timestamp('2014-08-26 00:00:00')"
      ]
     },
     "execution_count": 13,
     "metadata": {},
     "output_type": "execute_result"
    }
   ],
   "source": [
    "# calculate the date of the Tuesday previous to a specified date \n",
    "d - Week(weekday = 1)"
   ]
  },
  {
   "cell_type": "markdown",
   "metadata": {},
   "source": [
    "# Anchored offsets"
   ]
  },
  {
   "cell_type": "code",
   "execution_count": null,
   "metadata": {},
   "outputs": [],
   "source": [
    "\"\"\"\n",
    "Anchored offsets are frequencies that represent a given frequency and begin at a specific\n",
    "point such as a specific day of the week, month, or year. Anchored offsets use a specific\n",
    "shorthand nomenclature. As an example, the following strings specify a specific day of the\n",
    "week: \n",
    "W-SUN: weekly on Sunday\n",
    "W-MON: weekly on Monday\n",
    ".......................\n",
    "W-SAT: weekly on Saturday\n",
    "\n",
    "\"\"\""
   ]
  },
  {
   "cell_type": "code",
   "execution_count": 14,
   "metadata": {},
   "outputs": [
    {
     "data": {
      "text/plain": [
       "array(['2014-06-04T00:00:00.000000000', '2014-06-11T00:00:00.000000000',\n",
       "       '2014-06-18T00:00:00.000000000', '2014-06-25T00:00:00.000000000',\n",
       "       '2014-07-02T00:00:00.000000000', '2014-07-09T00:00:00.000000000',\n",
       "       '2014-07-16T00:00:00.000000000', '2014-07-23T00:00:00.000000000',\n",
       "       '2014-07-30T00:00:00.000000000'], dtype='datetime64[ns]')"
      ]
     },
     "execution_count": 14,
     "metadata": {},
     "output_type": "execute_result"
    }
   ],
   "source": [
    "# calculate all Wednesdays between 2014-06-01\n",
    "# and 2014-08-31\n",
    "wednesdays = pd.date_range('2014-06-01', \n",
    "                           '2014-07-31', freq=\"W-WED\")\n",
    "wednesdays.values"
   ]
  },
  {
   "cell_type": "code",
   "execution_count": 15,
   "metadata": {},
   "outputs": [
    {
     "data": {
      "text/plain": [
       "array(['2014-03-03T00:00:00.000000000', '2014-06-02T00:00:00.000000000',\n",
       "       '2014-09-01T00:00:00.000000000', '2014-12-01T00:00:00.000000000'],\n",
       "      dtype='datetime64[ns]')"
      ]
     },
     "execution_count": 15,
     "metadata": {},
     "output_type": "execute_result"
    }
   ],
   "source": [
    "# what are all of the business quarterly end\n",
    "# dates in 2014?\n",
    "qends = pd.date_range('2014-01-01', '2014-12-31', \n",
    "                      freq='BQS-JUN')\n",
    "qends.values"
   ]
  },
  {
   "cell_type": "markdown",
   "metadata": {},
   "source": [
    "# The Period object"
   ]
  },
  {
   "cell_type": "code",
   "execution_count": 5,
   "metadata": {},
   "outputs": [
    {
     "data": {
      "text/plain": [
       "Period('2014-08', 'M')"
      ]
     },
     "execution_count": 5,
     "metadata": {},
     "output_type": "execute_result"
    }
   ],
   "source": [
    "# pandas formalizes the concept of an interval of time using a Period object. \n",
    "# A Period is created using a timestamp and a frequency, where the timestamp represents the anchor used as \n",
    "# a point of reference and the frequency is the duration of time\n",
    "# create a period representing a month of time\n",
    "# starting in August 2014\n",
    "aug2014 = pd.Period('2014-08', freq='M')\n",
    "aug2014"
   ]
  },
  {
   "cell_type": "code",
   "execution_count": 6,
   "metadata": {},
   "outputs": [
    {
     "data": {
      "text/plain": [
       "(Timestamp('2014-08-01 00:00:00'), Timestamp('2014-08-31 23:59:59.999999999'))"
      ]
     },
     "execution_count": 6,
     "metadata": {},
     "output_type": "execute_result"
    }
   ],
   "source": [
    "# examine the start and end times of this period\n",
    "aug2014.start_time, aug2014.end_time"
   ]
  },
  {
   "cell_type": "code",
   "execution_count": 7,
   "metadata": {},
   "outputs": [
    {
     "data": {
      "text/plain": [
       "Period('2014-09', 'M')"
      ]
     },
     "execution_count": 7,
     "metadata": {},
     "output_type": "execute_result"
    }
   ],
   "source": [
    "# calculate the period that is one frequency\n",
    "# unit of the aug2014 period further along in time\n",
    "# This happens to be September 2014\n",
    "sep2014 = aug2014 + 1\n",
    "sep2014"
   ]
  },
  {
   "cell_type": "code",
   "execution_count": 8,
   "metadata": {},
   "outputs": [
    {
     "data": {
      "text/plain": [
       "(Timestamp('2014-09-01 00:00:00'), Timestamp('2014-09-30 23:59:59.999999999'))"
      ]
     },
     "execution_count": 8,
     "metadata": {},
     "output_type": "execute_result"
    }
   ],
   "source": [
    "sep2014.start_time, sep2014.end_time"
   ]
  },
  {
   "cell_type": "markdown",
   "metadata": {},
   "source": [
    "# Indexing using the PeriodIndex"
   ]
  },
  {
   "cell_type": "code",
   "execution_count": 9,
   "metadata": {},
   "outputs": [
    {
     "data": {
      "text/plain": [
       "PeriodIndex(['2013-01', '2013-02', '2013-03', '2013-04', '2013-05', '2013-06',\n",
       "             '2013-07', '2013-08', '2013-09', '2013-10', '2013-11', '2013-12'],\n",
       "            dtype='period[M]', freq='M')"
      ]
     },
     "execution_count": 9,
     "metadata": {},
     "output_type": "execute_result"
    }
   ],
   "source": [
    "\"\"\"\n",
    "A series of Period objects can be combined into a special form of pandas index known as\n",
    "PeriodIndex. A PeriodIndex index is useful for being able to associate data to specific\n",
    "intervals of time and with being able to slice and perform analysis on the events in each\n",
    "interval.\n",
    "\"\"\"\n",
    "# create a period index representing all monthly boundaries in 2013\n",
    "mp2013 = pd.period_range('1/1/2013', '12/31/2013', freq='M') #each elements in period_range is an Period object\n",
    "mp2013"
   ]
  },
  {
   "cell_type": "code",
   "execution_count": 10,
   "metadata": {},
   "outputs": [
    {
     "name": "stdout",
     "output_type": "stream",
     "text": [
      "2013-01-01 00:00:00 2013-01-31 23:59:59.999999999\n",
      "2013-02-01 00:00:00 2013-02-28 23:59:59.999999999\n",
      "2013-03-01 00:00:00 2013-03-31 23:59:59.999999999\n",
      "2013-04-01 00:00:00 2013-04-30 23:59:59.999999999\n",
      "2013-05-01 00:00:00 2013-05-31 23:59:59.999999999\n",
      "2013-06-01 00:00:00 2013-06-30 23:59:59.999999999\n",
      "2013-07-01 00:00:00 2013-07-31 23:59:59.999999999\n",
      "2013-08-01 00:00:00 2013-08-31 23:59:59.999999999\n",
      "2013-09-01 00:00:00 2013-09-30 23:59:59.999999999\n",
      "2013-10-01 00:00:00 2013-10-31 23:59:59.999999999\n",
      "2013-11-01 00:00:00 2013-11-30 23:59:59.999999999\n",
      "2013-12-01 00:00:00 2013-12-31 23:59:59.999999999\n"
     ]
    }
   ],
   "source": [
    "# loop through all period objects in the index\n",
    "# printing start and end time for each\n",
    "for p in mp2013: \n",
    "    print (\"{0} {1}\".format(p.start_time, p.end_time))"
   ]
  },
  {
   "cell_type": "code",
   "execution_count": 11,
   "metadata": {},
   "outputs": [
    {
     "data": {
      "text/plain": [
       "2013-01    0.469112\n",
       "2013-02   -0.282863\n",
       "2013-03   -1.509059\n",
       "2013-04   -1.135632\n",
       "2013-05    1.212112\n",
       "Freq: M, dtype: float64"
      ]
     },
     "execution_count": 11,
     "metadata": {},
     "output_type": "execute_result"
    }
   ],
   "source": [
    "# create a Series with a PeriodIndex\n",
    "np.random.seed(123456)\n",
    "ps = pd.Series(np.random.randn(12), mp2013) # Series mp2013 has 12 objects\n",
    "ps[:5]"
   ]
  },
  {
   "cell_type": "code",
   "execution_count": 13,
   "metadata": {},
   "outputs": [
    {
     "data": {
      "text/plain": [
       "2013-01    0.469112\n",
       "2013-02   -0.282863\n",
       "2013-03   -1.509059\n",
       "2013-04   -1.135632\n",
       "2013-05    1.212112\n",
       "2013-06   -0.173215\n",
       "2013-07    0.119209\n",
       "2013-08   -1.044236\n",
       "2013-09   -0.861849\n",
       "2013-10   -2.104569\n",
       "2013-11   -0.494929\n",
       "2013-12    1.071804\n",
       "2014-01    0.721555\n",
       "2014-02   -0.706771\n",
       "2014-03   -1.039575\n",
       "2014-04    0.271860\n",
       "2014-05   -0.424972\n",
       "2014-06    0.567020\n",
       "2014-07    0.276232\n",
       "2014-08   -1.087401\n",
       "2014-09   -0.673690\n",
       "2014-10    0.113648\n",
       "2014-11   -1.478427\n",
       "2014-12    0.524988\n",
       "Freq: M, dtype: float64"
      ]
     },
     "execution_count": 13,
     "metadata": {},
     "output_type": "execute_result"
    }
   ],
   "source": [
    "# create a Series with a PeriodIndex and which\n",
    "# represents all calendar month periods in 2013 and 2014\n",
    "np.random.seed(123456)\n",
    "ps = pd.Series(np.random.randn(24), \n",
    "               pd.period_range('1/1/2013', \n",
    "                               '12/31/2014', freq='M'))\n",
    "ps"
   ]
  },
  {
   "cell_type": "code",
   "execution_count": 14,
   "metadata": {},
   "outputs": [
    {
     "data": {
      "text/plain": [
       "0.567020349793672"
      ]
     },
     "execution_count": 14,
     "metadata": {},
     "output_type": "execute_result"
    }
   ],
   "source": [
    "# get value for period represented with 2014-06\n",
    "ps['2014-06']"
   ]
  },
  {
   "cell_type": "code",
   "execution_count": 15,
   "metadata": {},
   "outputs": [
    {
     "data": {
      "text/plain": [
       "2014-01    0.721555\n",
       "2014-02   -0.706771\n",
       "2014-03   -1.039575\n",
       "2014-04    0.271860\n",
       "2014-05   -0.424972\n",
       "2014-06    0.567020\n",
       "2014-07    0.276232\n",
       "2014-08   -1.087401\n",
       "2014-09   -0.673690\n",
       "2014-10    0.113648\n",
       "2014-11   -1.478427\n",
       "2014-12    0.524988\n",
       "Freq: M, dtype: float64"
      ]
     },
     "execution_count": 15,
     "metadata": {},
     "output_type": "execute_result"
    }
   ],
   "source": [
    "# get values for all periods in 2014\n",
    "ps['2014']"
   ]
  },
  {
   "cell_type": "code",
   "execution_count": 16,
   "metadata": {},
   "outputs": [
    {
     "data": {
      "text/plain": [
       "2014-03   -1.039575\n",
       "2014-04    0.271860\n",
       "2014-05   -0.424972\n",
       "2014-06    0.567020\n",
       "Freq: M, dtype: float64"
      ]
     },
     "execution_count": 16,
     "metadata": {},
     "output_type": "execute_result"
    }
   ],
   "source": [
    "# all values between (and including) March and June 2014\n",
    "ps['2014-03':'2014-06']"
   ]
  },
  {
   "cell_type": "markdown",
   "metadata": {},
   "source": [
    "# Handling holidays using calendars"
   ]
  },
  {
   "cell_type": "code",
   "execution_count": 19,
   "metadata": {},
   "outputs": [
    {
     "name": "stdout",
     "output_type": "stream",
     "text": [
      "2014-01-01 00:00:00\n",
      "2014-01-20 00:00:00\n",
      "2014-02-17 00:00:00\n",
      "2014-05-26 00:00:00\n",
      "2014-07-04 00:00:00\n",
      "2014-09-01 00:00:00\n",
      "2014-10-13 00:00:00\n",
      "2014-11-11 00:00:00\n",
      "2014-11-27 00:00:00\n",
      "2014-12-25 00:00:00\n"
     ]
    }
   ],
   "source": [
    "\"\"\"Earlier, when we calculated the next business day from August 29, 2014, we were told by\n",
    "pandas that this date is September 1, 2014. This is actually not correct in the United States:\n",
    "September 1, 2014 is a US federal holiday and banks and exchanges are closed on this day.\n",
    "The reason for this is that pandas uses a specific default calendar when calculating the next\n",
    "business day, and this default pandas calendar does not include September 1, 2014 as a\n",
    "holiday \n",
    "\n",
    "The solution to this issue is to either create a custom calendar (which we will not get into\n",
    "the details of), or use the one custom calendar provided by pandas for just this situation,\n",
    "USFederalHolidayCalender. This custom calendar can then be passed to a\n",
    "CustomBusinessDay object that will be used instead of a BusinessDay object. The\n",
    "calculation using this CustomBusinessDay object will then use the new calendar and take\n",
    "into account the US federal holidays.\n",
    "\n",
    "\"\"\"\n",
    "# demonstrate using the US federal holiday calendar\n",
    "# first need to import it\n",
    "from pandas.tseries.holiday import *\n",
    "# create it and show what it considers holidays\n",
    "cal = USFederalHolidayCalendar()\n",
    "for d in cal.holidays(start='2014-01-01', end='2014-12-31'):\n",
    "    print (d)"
   ]
  },
  {
   "cell_type": "code",
   "execution_count": 20,
   "metadata": {},
   "outputs": [
    {
     "data": {
      "text/plain": [
       "Timestamp('2014-09-02 00:00:00')"
      ]
     },
     "execution_count": 20,
     "metadata": {},
     "output_type": "execute_result"
    }
   ],
   "source": [
    "# This calendar can then be used to calculate the next business day from August 29, 2014:\n",
    "from pandas.tseries.offsets import CustomBusinessDay\n",
    "# create CustomBusinessDay object based on the federal calendar\n",
    "cbd = CustomBusinessDay(holidays=cal.holidays())\n",
    "\n",
    "# now calc next business day from 2014-8-29\n",
    "datetime(2014, 8, 29) + cbd"
   ]
  },
  {
   "cell_type": "markdown",
   "metadata": {},
   "source": [
    "# Normalizing timestamps using time zones"
   ]
  },
  {
   "cell_type": "code",
   "execution_count": 21,
   "metadata": {},
   "outputs": [
    {
     "data": {
      "text/plain": [
       "(Timestamp('2020-04-14 08:35:58.096118'), True)"
      ]
     },
     "execution_count": 21,
     "metadata": {},
     "output_type": "execute_result"
    }
   ],
   "source": [
    "\"\"\"\n",
    "pandas provides rich support for working with timestamps in different time\n",
    "zones. Under the covers, pandas utilizes the pytz (python time zone) and dateuil (date uil) libraries to manage the\n",
    "time zone operations\n",
    "\"\"\"\n",
    "# get the current local time and demonstrate there is no\n",
    "# timezone info by default\n",
    "now = pd.Timestamp('now')\n",
    "now, now.tz is None # pandas objects that are time zone-aware support .tz property"
   ]
  },
  {
   "cell_type": "code",
   "execution_count": 22,
   "metadata": {},
   "outputs": [
    {
     "data": {
      "text/plain": [
       "(True, True)"
      ]
     },
     "execution_count": 22,
     "metadata": {},
     "output_type": "execute_result"
    }
   ],
   "source": [
    "# default DatetimeIndex and its Timestamps do not have\n",
    "# time zone information\n",
    "rng = pd.date_range('3/6/2012 00:00', periods=15, freq='D')\n",
    "rng.tz is None, rng[0].tz is None"
   ]
  },
  {
   "cell_type": "code",
   "execution_count": 23,
   "metadata": {},
   "outputs": [
    {
     "data": {
      "text/plain": [
       "['Africa/Abidjan',\n",
       " 'Africa/Accra',\n",
       " 'Africa/Addis_Ababa',\n",
       " 'Africa/Algiers',\n",
       " 'Africa/Asmara']"
      ]
     },
     "execution_count": 23,
     "metadata": {},
     "output_type": "execute_result"
    }
   ],
   "source": [
    "# import common timezones from pytz\n",
    "from pytz import common_timezones\n",
    "# report the first 5\n",
    "common_timezones[:5]"
   ]
  },
  {
   "cell_type": "code",
   "execution_count": 24,
   "metadata": {},
   "outputs": [
    {
     "data": {
      "text/plain": [
       "(Timestamp('2020-04-14 08:48:09.656637'),\n",
       " Timestamp('2020-04-14 08:48:09.656637+0000', tz='UTC'))"
      ]
     },
     "execution_count": 24,
     "metadata": {},
     "output_type": "execute_result"
    }
   ],
   "source": [
    "# get now, and now localized to UTC\n",
    "now = Timestamp(\"now\")\n",
    "local_now = now.tz_localize('UTC')\n",
    "now, local_now"
   ]
  },
  {
   "cell_type": "code",
   "execution_count": 27,
   "metadata": {},
   "outputs": [
    {
     "data": {
      "text/plain": [
       "(Timestamp('2020-04-14 08:54:46.314538'),\n",
       " Timestamp('2020-04-14 08:54:46.314538+0900', tz='Asia/Tokyo'))"
      ]
     },
     "execution_count": 27,
     "metadata": {},
     "output_type": "execute_result"
    }
   ],
   "source": [
    "\"\"\" The local UTC time can be found using the following which utilizes the .tz_localize() method of Timestamp \n",
    "and by passing the UTC value:\"\"\"\n",
    "# get now, and now localized to UTC\n",
    "now = Timestamp(\"now\")\n",
    "#local_now = now.tz_localize('UTC')\n",
    "local_now = now.tz_localize('Asia/Tokyo')\n",
    "now, local_now"
   ]
  },
  {
   "cell_type": "code",
   "execution_count": 31,
   "metadata": {},
   "outputs": [
    {
     "data": {
      "text/plain": [
       "Timestamp('2014-08-01 12:00:00-0600', tz='US/Mountain')"
      ]
     },
     "execution_count": 31,
     "metadata": {},
     "output_type": "execute_result"
    }
   ],
   "source": [
    "# localize a timestamp to US/Mountain time zone\n",
    "tstamp = Timestamp('2014-08-01 12:00:00', tz='US/Mountain')\n",
    "tstamp"
   ]
  },
  {
   "cell_type": "code",
   "execution_count": 30,
   "metadata": {},
   "outputs": [
    {
     "data": {
      "text/plain": [
       "(<DstTzInfo 'US/Mountain' LMT-1 day, 17:00:00 STD>,\n",
       " <DstTzInfo 'US/Mountain' MST-1 day, 17:00:00 STD>)"
      ]
     },
     "execution_count": 30,
     "metadata": {},
     "output_type": "execute_result"
    }
   ],
   "source": [
    "\"\"\"\n",
    "A DatetimeIndex can be created with a specific time zone by using the tz parameter of\n",
    "the pd.date_range method:\n",
    "\"\"\"\n",
    "# create a DatetimeIndex using a timezone\n",
    "rng = pd.date_range('3/6/2012 00:00:00', \n",
    "                    periods=10, freq='D', tz='US/Mountain')\n",
    "rng.tz, rng[0].tz"
   ]
  },
  {
   "cell_type": "code",
   "execution_count": 32,
   "metadata": {},
   "outputs": [
    {
     "data": {
      "text/plain": [
       "(Timestamp('2020-04-14 08:54:46.314538-0600', tz='US/Mountain'),\n",
       " Timestamp('2020-04-14 08:54:46.314538-0400', tz='US/Eastern'))"
      ]
     },
     "execution_count": 32,
     "metadata": {},
     "output_type": "execute_result"
    }
   ],
   "source": [
    "\"\"\"\n",
    "It is also possible to construct other time zones explicitly. This model can give you more\n",
    "control over which time zone is used in .tz_localize(). The following creates two\n",
    "different timezone objects and localizes a Timestamp to each:\n",
    "\"\"\"\n",
    "# show use of timezone objects\n",
    "# need to reference pytz\n",
    "import pytz\n",
    "# create an object for two different timezones\n",
    "mountain_tz = pytz.timezone(\"US/Mountain\")\n",
    "eastern_tz = pytz.timezone(\"US/Eastern\")\n",
    "# apply each to 'now'\n",
    "mountain_tz.localize(now), eastern_tz.localize(now)"
   ]
  },
  {
   "cell_type": "code",
   "execution_count": 33,
   "metadata": {},
   "outputs": [
    {
     "data": {
      "text/plain": [
       "2014-08-01 00:00:00-06:00    0\n",
       "2014-08-01 01:00:00-06:00    1\n",
       "2014-08-01 02:00:00-06:00    2\n",
       "2014-08-01 03:00:00-06:00    3\n",
       "2014-08-01 04:00:00-06:00    4\n",
       "Freq: H, dtype: int32"
      ]
     },
     "execution_count": 33,
     "metadata": {},
     "output_type": "execute_result"
    }
   ],
   "source": [
    "# create two Series, same start, same periods, same frequencies,\n",
    "# each with a different timezone\n",
    "s_mountain = Series(np.arange(0, 5),\n",
    "                    index=pd.date_range('2014-08-01', \n",
    "                                        periods=5, freq=\"H\", \n",
    "                                        tz='US/Mountain'))\n",
    "s_eastern = Series(np.arange(0, 5), \n",
    "                   index=pd.date_range('2014-08-01', \n",
    "                                       periods=5, freq=\"H\", \n",
    "                                       tz='US/Eastern'))\n",
    "s_mountain # UTC -6"
   ]
  },
  {
   "cell_type": "code",
   "execution_count": 34,
   "metadata": {},
   "outputs": [
    {
     "data": {
      "text/plain": [
       "2014-08-01 00:00:00-04:00    0\n",
       "2014-08-01 01:00:00-04:00    1\n",
       "2014-08-01 02:00:00-04:00    2\n",
       "2014-08-01 03:00:00-04:00    3\n",
       "2014-08-01 04:00:00-04:00    4\n",
       "Freq: H, dtype: int32"
      ]
     },
     "execution_count": 34,
     "metadata": {},
     "output_type": "execute_result"
    }
   ],
   "source": [
    "s_eastern # UTC-4"
   ]
  },
  {
   "cell_type": "code",
   "execution_count": 36,
   "metadata": {},
   "outputs": [
    {
     "data": {
      "text/plain": [
       "2014-08-01 04:00:00+00:00    NaN\n",
       "2014-08-01 05:00:00+00:00    NaN\n",
       "2014-08-01 06:00:00+00:00    2.0\n",
       "2014-08-01 07:00:00+00:00    4.0\n",
       "2014-08-01 08:00:00+00:00    6.0\n",
       "2014-08-01 09:00:00+00:00    NaN\n",
       "2014-08-01 10:00:00+00:00    NaN\n",
       "Freq: H, dtype: float64"
      ]
     },
     "execution_count": 36,
     "metadata": {},
     "output_type": "execute_result"
    }
   ],
   "source": [
    "# add the two Series. This only results in three items being aligned \n",
    "s = s_eastern + s_mountain # result have index which is UTC timestamp series\n",
    "s # plus 2 series, only three items in two series are aligned (have the same time index)"
   ]
  },
  {
   "cell_type": "code",
   "execution_count": 39,
   "metadata": {},
   "outputs": [
    {
     "data": {
      "text/plain": [
       "DatetimeIndex(['2014-08-01 04:00:00+00:00', '2014-08-01 05:00:00+00:00',\n",
       "               '2014-08-01 06:00:00+00:00', '2014-08-01 07:00:00+00:00',\n",
       "               '2014-08-01 08:00:00+00:00', '2014-08-01 09:00:00+00:00',\n",
       "               '2014-08-01 10:00:00+00:00'],\n",
       "              dtype='datetime64[ns, UTC]', freq='H')"
      ]
     },
     "execution_count": 39,
     "metadata": {},
     "output_type": "execute_result"
    }
   ],
   "source": [
    "s.index"
   ]
  },
  {
   "cell_type": "code",
   "execution_count": 40,
   "metadata": {},
   "outputs": [
    {
     "data": {
      "text/plain": [
       "2014-07-31 21:00:00-07:00    0\n",
       "2014-07-31 22:00:00-07:00    1\n",
       "2014-07-31 23:00:00-07:00    2\n",
       "2014-08-01 00:00:00-07:00    3\n",
       "2014-08-01 01:00:00-07:00    4\n",
       "Freq: H, dtype: int32"
      ]
     },
     "execution_count": 40,
     "metadata": {},
     "output_type": "execute_result"
    }
   ],
   "source": [
    "\"\"\" Once a time zone is assigned to an object, that object can be converted to another time zone\n",
    "using the .tz_convert() method\"\"\"\n",
    "# convert s1 from US/Eastern to US/Pacific\n",
    "s_pacific = s_eastern.tz_convert(\"US/Pacific\")\n",
    "s_pacific"
   ]
  },
  {
   "cell_type": "markdown",
   "metadata": {},
   "source": [
    "# Manipulating time-series data"
   ]
  },
  {
   "cell_type": "code",
   "execution_count": null,
   "metadata": {},
   "outputs": [],
   "source": [
    "\"\"\"\n",
    "We will now examine several common operations that are performed on time-series data.\n",
    "These operations entail realigning data, changing the frequency of the samples and their\n",
    "values, and calculating aggregate results on continuously moving subsets of the data to\n",
    "determine the behavior of the values in the data as time changes\n",
    "\"\"\""
   ]
  },
  {
   "cell_type": "markdown",
   "metadata": {},
   "source": [
    "# Shifting and lagging"
   ]
  },
  {
   "cell_type": "code",
   "execution_count": 41,
   "metadata": {},
   "outputs": [
    {
     "data": {
      "text/plain": [
       "2014-08-01    1.0\n",
       "2014-08-02    2.0\n",
       "2014-08-03    2.5\n",
       "2014-08-04    1.5\n",
       "2014-08-05    0.5\n",
       "Freq: D, dtype: float64"
      ]
     },
     "execution_count": 41,
     "metadata": {},
     "output_type": "execute_result"
    }
   ],
   "source": [
    "\"\"\"\n",
    "to shift the values backward and forward in\n",
    "time. The pandas method for this is .shift() which will shift values in a Series or\n",
    "DataFrame a specified number of units of the frequency in the index\n",
    "\"\"\"\n",
    "# create a Series to work with\n",
    "np.random.seed(123456)\n",
    "ts = Series([1, 2, 2.5, 1.5, 0.5],\n",
    "            pd.date_range('2014-08-01', periods=5))\n",
    "ts"
   ]
  },
  {
   "cell_type": "code",
   "execution_count": 42,
   "metadata": {},
   "outputs": [
    {
     "data": {
      "text/plain": [
       "2014-08-01    NaN\n",
       "2014-08-02    1.0\n",
       "2014-08-03    2.0\n",
       "2014-08-04    2.5\n",
       "2014-08-05    1.5\n",
       "Freq: D, dtype: float64"
      ]
     },
     "execution_count": 42,
     "metadata": {},
     "output_type": "execute_result"
    }
   ],
   "source": [
    "# shift forward one day\n",
    "    # the index itself remains unchanged. There is no replacement data for 2014-08-01 so it is filled with NaN\n",
    "ts.shift(1)"
   ]
  },
  {
   "cell_type": "code",
   "execution_count": 43,
   "metadata": {},
   "outputs": [
    {
     "data": {
      "text/plain": [
       "2014-08-01    2.5\n",
       "2014-08-02    1.5\n",
       "2014-08-03    0.5\n",
       "2014-08-04    NaN\n",
       "2014-08-05    NaN\n",
       "Freq: D, dtype: float64"
      ]
     },
     "execution_count": 43,
     "metadata": {},
     "output_type": "execute_result"
    }
   ],
   "source": [
    "# lag two days\n",
    "    # a shift in a negative direction (shift backward 2 days)\n",
    "ts.shift(-2)"
   ]
  },
  {
   "cell_type": "code",
   "execution_count": 45,
   "metadata": {},
   "outputs": [
    {
     "data": {
      "text/plain": [
       "2014-08-01         NaN\n",
       "2014-08-02    2.000000\n",
       "2014-08-03    1.250000\n",
       "2014-08-04    0.600000\n",
       "2014-08-05    0.333333\n",
       "Freq: D, dtype: float64"
      ]
     },
     "execution_count": 45,
     "metadata": {},
     "output_type": "execute_result"
    }
   ],
   "source": [
    "# calculate daily percentage change\n",
    "ts / ts.shift(1) # dividing a Series object by its values which is shifted by 1 "
   ]
  },
  {
   "cell_type": "code",
   "execution_count": 47,
   "metadata": {},
   "outputs": [
    {
     "data": {
      "text/plain": [
       "2014-08-04    1.0\n",
       "2014-08-04    2.0\n",
       "2014-08-04    2.5\n",
       "2014-08-05    1.5\n",
       "2014-08-06    0.5\n",
       "dtype: float64"
      ]
     },
     "execution_count": 47,
     "metadata": {},
     "output_type": "execute_result"
    }
   ],
   "source": [
    "# Shifts can be performed on different frequencies than that in the index. When this is\n",
    "# performed, the index will be modified and the values remain the same\n",
    "# the following shifts the Series forward by one business day:\n",
    "    # shift forward one business day\n",
    "ts.shift(1, freq=\"B\")"
   ]
  },
  {
   "cell_type": "code",
   "execution_count": 48,
   "metadata": {},
   "outputs": [
    {
     "data": {
      "text/plain": [
       "2014-08-01 05:00:00    1.0\n",
       "2014-08-02 05:00:00    2.0\n",
       "2014-08-03 05:00:00    2.5\n",
       "2014-08-04 05:00:00    1.5\n",
       "2014-08-05 05:00:00    0.5\n",
       "Freq: D, dtype: float64"
      ]
     },
     "execution_count": 48,
     "metadata": {},
     "output_type": "execute_result"
    }
   ],
   "source": [
    "# shift forward five hours\n",
    "ts.tshift(5, freq=\"H\")"
   ]
  },
  {
   "cell_type": "code",
   "execution_count": 49,
   "metadata": {},
   "outputs": [
    {
     "data": {
      "text/plain": [
       "2014-08-01 00:00:30    1.0\n",
       "2014-08-02 00:00:30    2.0\n",
       "2014-08-03 00:00:30    2.5\n",
       "2014-08-04 00:00:30    1.5\n",
       "2014-08-05 00:00:30    0.5\n",
       "Freq: D, dtype: float64"
      ]
     },
     "execution_count": 49,
     "metadata": {},
     "output_type": "execute_result"
    }
   ],
   "source": [
    "# shift using a DateOffset\n",
    "ts.shift(1, DateOffset(minutes=0.5))"
   ]
  },
  {
   "cell_type": "code",
   "execution_count": 51,
   "metadata": {},
   "outputs": [
    {
     "data": {
      "text/plain": [
       "2014-07-31 22:00:00    1.0\n",
       "2014-08-01 22:00:00    2.0\n",
       "2014-08-02 22:00:00    2.5\n",
       "2014-08-03 22:00:00    1.5\n",
       "2014-08-04 22:00:00    0.5\n",
       "Freq: D, dtype: float64"
      ]
     },
     "execution_count": 51,
     "metadata": {},
     "output_type": "execute_result"
    }
   ],
   "source": [
    "# This method shifts the index labels by the specified units and a frequency specified by the freq  \n",
    "# parameter (which is required). The following code demonstrates this approach by adjusting the index by 1 hour:\n",
    "\n",
    "# shift just the index values\n",
    "# ts.tshift(-1, freq='H')\n",
    "ts.tshift(-2, freq='H') #shift lui index lai 2 tieng"
   ]
  },
  {
   "cell_type": "markdown",
   "metadata": {},
   "source": [
    "# Frequency Conversion"
   ]
  },
  {
   "cell_type": "code",
   "execution_count": 52,
   "metadata": {},
   "outputs": [
    {
     "data": {
      "text/plain": [
       "2014-08-01 00:00:00    0\n",
       "2014-08-01 02:00:00    1\n",
       "2014-08-01 04:00:00    2\n",
       "2014-08-01 06:00:00    3\n",
       "2014-08-01 08:00:00    4\n",
       "Freq: 2H, dtype: int32"
      ]
     },
     "execution_count": 52,
     "metadata": {},
     "output_type": "execute_result"
    }
   ],
   "source": [
    "\"\"\"\n",
    "Frequency data can be converted in pandas using the .asfreq() method of a time-series\n",
    "object. When converting frequency, a new Series object with a new DatatimeIndex\n",
    "object will be created. The DatetimeIndex of the new Series object starts at the first\n",
    "Timestamp of the original and progresses at the given frequency until the last Timestamp\n",
    "of the original. Values will then be aligned into the new Series\n",
    "\"\"\"\n",
    "# time series of consecutive incremental integers mapped into each 2 hour of each day for August 2014:\n",
    "# create a Series of incremental values\n",
    "# index by hour through all of August 2014\n",
    "periods = 31 * 24\n",
    "hourly = Series(np.arange(0, periods),\n",
    "               pd.date_range('08-01-2014', freq=\"2H\", \n",
    "                             periods = periods))\n",
    "hourly[:5]"
   ]
  },
  {
   "cell_type": "code",
   "execution_count": 53,
   "metadata": {},
   "outputs": [
    {
     "data": {
      "text/plain": [
       "2014-08-01     0\n",
       "2014-08-02    12\n",
       "2014-08-03    24\n",
       "2014-08-04    36\n",
       "2014-08-05    48\n",
       "Freq: D, dtype: int32"
      ]
     },
     "execution_count": 53,
     "metadata": {},
     "output_type": "execute_result"
    }
   ],
   "source": [
    "# The following converts this time series to a daily frequency using .asfreq('D')\n",
    "    # convert to daily frequency; many items will be dropped due to alignment\n",
    "daily = hourly.asfreq('D') #chuyen doi index tu h sang ngay, dropped cac values de khop voi index\n",
    "daily[:5]"
   ]
  },
  {
   "cell_type": "code",
   "execution_count": 54,
   "metadata": {},
   "outputs": [
    {
     "data": {
      "text/plain": [
       "2014-08-01 00:00:00      0.0\n",
       "2014-08-01 01:00:00      NaN\n",
       "2014-08-01 02:00:00      NaN\n",
       "2014-08-01 03:00:00      NaN\n",
       "2014-08-01 04:00:00      NaN\n",
       "                       ...  \n",
       "2014-09-30 20:00:00      NaN\n",
       "2014-09-30 21:00:00      NaN\n",
       "2014-09-30 22:00:00      NaN\n",
       "2014-09-30 23:00:00      NaN\n",
       "2014-10-01 00:00:00    732.0\n",
       "Freq: H, Length: 1465, dtype: float64"
      ]
     },
     "execution_count": 54,
     "metadata": {},
     "output_type": "execute_result"
    }
   ],
   "source": [
    "# convert back to hourly.  Results in many NaNs\n",
    "# as the new index has many labels that do not\n",
    "# align from the source\n",
    "daily.asfreq('H')"
   ]
  },
  {
   "cell_type": "code",
   "execution_count": 55,
   "metadata": {},
   "outputs": [
    {
     "data": {
      "text/plain": [
       "2014-08-01 00:00:00      0\n",
       "2014-08-01 01:00:00      0\n",
       "2014-08-01 02:00:00      0\n",
       "2014-08-01 03:00:00      0\n",
       "2014-08-01 04:00:00      0\n",
       "                      ... \n",
       "2014-09-30 20:00:00    720\n",
       "2014-09-30 21:00:00    720\n",
       "2014-09-30 22:00:00    720\n",
       "2014-09-30 23:00:00    720\n",
       "2014-10-01 00:00:00    732\n",
       "Freq: H, Length: 1465, dtype: int32"
      ]
     },
     "execution_count": 55,
     "metadata": {},
     "output_type": "execute_result"
    }
   ],
   "source": [
    "# Using method parameter of .asfreq() to change the default which is fill with NaN as above \n",
    "    # forward fill values: 'ffill'\n",
    "    # the last value trong ngay 30/9 la 720 => fill with 720; the last value in 1/8 la 0 => fill all hour with 0\n",
    "daily.asfreq('H', method='ffill')"
   ]
  },
  {
   "cell_type": "code",
   "execution_count": 56,
   "metadata": {},
   "outputs": [
    {
     "data": {
      "text/plain": [
       "2014-08-01 00:00:00      0\n",
       "2014-08-01 01:00:00     12\n",
       "2014-08-01 02:00:00     12\n",
       "2014-08-01 03:00:00     12\n",
       "2014-08-01 04:00:00     12\n",
       "                      ... \n",
       "2014-09-30 20:00:00    732\n",
       "2014-09-30 21:00:00    732\n",
       "2014-09-30 22:00:00    732\n",
       "2014-09-30 23:00:00    732\n",
       "2014-10-01 00:00:00    732\n",
       "Freq: H, Length: 1465, dtype: int32"
      ]
     },
     "execution_count": 56,
     "metadata": {},
     "output_type": "execute_result"
    }
   ],
   "source": [
    "# The bfill method will back fill values from the next known value:\n",
    "daily.asfreq('H', method='bfill') #value cua ngay 2/8 la 12 => fill ngay 1/8 with 12"
   ]
  },
  {
   "cell_type": "markdown",
   "metadata": {},
   "source": [
    "# Up and down resampling"
   ]
  },
  {
   "cell_type": "code",
   "execution_count": 59,
   "metadata": {},
   "outputs": [],
   "source": [
    "\"\"\"\n",
    "Frequency conversion provides a basic way to convert the index in a time series to another\n",
    "frequency. Data in the new time series is aligned with the old data and can result in many\n",
    "NaN values. This can be partially solved using a fill method, but that is limited in its\n",
    "capabilities to fill with appropriate information.\n",
    "\n",
    "\n",
    "'Resampling' differs (compare with asfreq) in that it does not perform a pure alignment. The values placed in the\n",
    "new series can use the same forward and reverse fill options, but they can also be specified\n",
    "using other pandas-provided algorithms or with your own functions\n",
    "\"\"\""
   ]
  },
  {
   "cell_type": "code",
   "execution_count": 60,
   "metadata": {},
   "outputs": [
    {
     "data": {
      "text/plain": [
       "2014-08-01 00:00:00      0.469112\n",
       "2014-08-01 00:00:01      0.186249\n",
       "2014-08-01 00:00:02     -1.322810\n",
       "2014-08-01 00:00:03     -2.458442\n",
       "2014-08-01 00:00:04     -1.246330\n",
       "                          ...    \n",
       "2014-08-05 23:59:55    456.529763\n",
       "2014-08-05 23:59:56    456.052131\n",
       "2014-08-05 23:59:57    455.202981\n",
       "2014-08-05 23:59:58    454.947362\n",
       "2014-08-05 23:59:59    456.191430\n",
       "Freq: S, Length: 432000, dtype: float64"
      ]
     },
     "execution_count": 60,
     "metadata": {},
     "output_type": "execute_result"
    }
   ],
   "source": [
    "# calculate a random walk five days long at one second intervals\n",
    "# this many items will be needed\n",
    "count = 24 * 60 * 60 * 5\n",
    "# create a series of values\n",
    "np.random.seed(123456)\n",
    "values = np.random.randn(count)\n",
    "ws = pd.Series(values)\n",
    "# calculate the walk\n",
    "walk = ws.cumsum()\n",
    "# patch the index\n",
    "walk.index = pd.date_range('2014-08-01', periods=count, freq=\"S\")\n",
    "\n",
    "walk"
   ]
  },
  {
   "cell_type": "code",
   "execution_count": 61,
   "metadata": {},
   "outputs": [
    {
     "data": {
      "text/plain": [
       "2014-08-01 00:00:00     -8.718220\n",
       "2014-08-01 00:01:00    -15.239213\n",
       "2014-08-01 00:02:00     -9.179315\n",
       "2014-08-01 00:03:00     -8.338307\n",
       "2014-08-01 00:04:00     -8.129554\n",
       "                          ...    \n",
       "2014-08-05 23:55:00    453.773467\n",
       "2014-08-05 23:56:00    450.857039\n",
       "2014-08-05 23:57:00    450.078149\n",
       "2014-08-05 23:58:00    444.637806\n",
       "2014-08-05 23:59:00    453.837417\n",
       "Freq: T, Length: 7200, dtype: float64"
      ]
     },
     "execution_count": 61,
     "metadata": {},
     "output_type": "execute_result"
    }
   ],
   "source": [
    "                                          \"\"\" DOWNSAMPLING \"\"\"\n",
    "\"\"\"\n",
    "Resampling in pandas is accomplished using the .resample() method and by passing it a\n",
    "new frequency. To demonstrate this, the following resamples the by-the-second data to bythe-minute. \n",
    "This is a downsampling, as the result has a lower frequency and results in less values:\n",
    "\"\"\"\n",
    "# resample to minute intervals\n",
    "walk.resample(\"1Min\").mean() # dua cac gia tri giay vao buckets roi tinh trung binh de ra gia tri cho index moi (theo phut) \n",
    "\"\"\"\n",
    "A resampling will actually split the data into buckets of data based on new periods and then apply a particular operation \n",
    "to the data in each bucket, in this case calculating the mean of the bucket\n",
    "\n",
    "default: closed = left, label = left\n",
    "\"\"\""
   ]
  },
  {
   "cell_type": "code",
   "execution_count": 62,
   "metadata": {},
   "outputs": [
    {
     "data": {
      "text/plain": [
       "-8.718220052832644"
      ]
     },
     "execution_count": 62,
     "metadata": {},
     "output_type": "execute_result"
    }
   ],
   "source": [
    "# calculate the mean of the first minute of the walk\n",
    "walk['2014-08-01 00:00'].mean() #tinh gia tri trung binh trong 1 phut dau tien "
   ]
  },
  {
   "cell_type": "code",
   "execution_count": 70,
   "metadata": {},
   "outputs": [],
   "source": [
    "\"\"\"\n",
    "In downsampling, as the existing data is put into buckets based on the new intervals, there\n",
    "can often be a question of what values are on each end of the bucket\n",
    "\n",
    "The default is the former, and it is referred to as a left close\n",
    "\"\"\""
   ]
  },
  {
   "cell_type": "code",
   "execution_count": 68,
   "metadata": {},
   "outputs": [
    {
     "data": {
      "text/plain": [
       "2014-07-31 23:59:00      0.469112\n",
       "2014-08-01 00:00:00     -8.907477\n",
       "2014-08-01 00:01:00    -15.280685\n",
       "2014-08-01 00:02:00     -9.083865\n",
       "2014-08-01 00:03:00     -8.285550\n",
       "                          ...    \n",
       "2014-08-05 23:55:00    453.726168\n",
       "2014-08-05 23:56:00    450.849039\n",
       "2014-08-05 23:57:00    450.039159\n",
       "2014-08-05 23:58:00    444.631719\n",
       "2014-08-05 23:59:00    453.955377\n",
       "Freq: T, Length: 7201, dtype: float64"
      ]
     },
     "execution_count": 68,
     "metadata": {},
     "output_type": "execute_result"
    }
   ],
   "source": [
    "# use a right close\n",
    "walk.resample(\"1Min\", closed='right').mean()"
   ]
  },
  {
   "cell_type": "code",
   "execution_count": 71,
   "metadata": {},
   "outputs": [],
   "source": [
    "\"\"\"Note: more detail about parameter closed: left/ right; label: left/ right. \n",
    "Xem oneNote: /numpy and matplotlib/concept/pandas/time series model\"\"\""
   ]
  },
  {
   "cell_type": "code",
   "execution_count": 72,
   "metadata": {},
   "outputs": [
    {
     "data": {
      "text/plain": [
       "2014-08-01 00:00:00      0.469112\n",
       "2014-08-01 00:01:00    -10.886314\n",
       "2014-08-01 00:02:00    -13.374656\n",
       "2014-08-01 00:03:00     -7.647693\n",
       "2014-08-01 00:04:00     -4.482292\n",
       "                          ...    \n",
       "2014-08-05 23:55:00    452.900335\n",
       "2014-08-05 23:56:00    450.062374\n",
       "2014-08-05 23:57:00    449.582419\n",
       "2014-08-05 23:58:00    447.243014\n",
       "2014-08-05 23:59:00    446.877810\n",
       "Freq: T, Length: 7200, dtype: float64"
      ]
     },
     "execution_count": 72,
     "metadata": {},
     "output_type": "execute_result"
    }
   ],
   "source": [
    "# taking the first value in each bucket:\n",
    "walk.resample(\"1Min\").first()"
   ]
  },
  {
   "cell_type": "code",
   "execution_count": 73,
   "metadata": {},
   "outputs": [
    {
     "data": {
      "text/plain": [
       "2014-08-01 00:00:00     -8.718220\n",
       "2014-08-01 00:00:01           NaN\n",
       "2014-08-01 00:00:02           NaN\n",
       "2014-08-01 00:00:03           NaN\n",
       "2014-08-01 00:00:04           NaN\n",
       "                          ...    \n",
       "2014-08-05 23:58:56           NaN\n",
       "2014-08-05 23:58:57           NaN\n",
       "2014-08-05 23:58:58           NaN\n",
       "2014-08-05 23:58:59           NaN\n",
       "2014-08-05 23:59:00    453.837417\n",
       "Freq: S, Length: 431941, dtype: float64"
      ]
     },
     "execution_count": 73,
     "metadata": {},
     "output_type": "execute_result"
    }
   ],
   "source": [
    "                                           \"\"\" UPSAMPLING \"\"\"\n",
    "#To demonstrate upsampling, we will resample the walk to minutes and then back into seconds:\n",
    "    # resample to 1 minute intervales, then back to 1 sec\n",
    "bymin = walk.resample(\"1Min\").mean() # The upsampling created the index values for the second-by-second data but inserted NaN\n",
    "                                     # values by default\n",
    "bymin.resample('S').mean()"
   ]
  },
  {
   "cell_type": "code",
   "execution_count": 74,
   "metadata": {},
   "outputs": [],
   "source": [
    "\"\"\"\n",
    "The upsampling created the index values for the second-by-second data but inserted NaN\n",
    "values by default. This default behavior can be modified using the fill_method\n",
    "parameter. We saw this when changing frequency with the options of forward and\n",
    "backward filling. These are also available with resampling. The following demonstrates\n",
    "how to use the forward fill:\n",
    "\"\"\""
   ]
  },
  {
   "cell_type": "code",
   "execution_count": 75,
   "metadata": {},
   "outputs": [
    {
     "data": {
      "text/plain": [
       "2014-08-01 00:00:00     -8.718220\n",
       "2014-08-01 00:00:01    -15.239213\n",
       "2014-08-01 00:00:02    -15.239213\n",
       "2014-08-01 00:00:03    -15.239213\n",
       "2014-08-01 00:00:04    -15.239213\n",
       "                          ...    \n",
       "2014-08-05 23:58:56    453.837417\n",
       "2014-08-05 23:58:57    453.837417\n",
       "2014-08-05 23:58:58    453.837417\n",
       "2014-08-05 23:58:59    453.837417\n",
       "2014-08-05 23:59:00    453.837417\n",
       "Freq: S, Length: 431941, dtype: float64"
      ]
     },
     "execution_count": 75,
     "metadata": {},
     "output_type": "execute_result"
    }
   ],
   "source": [
    "# resample to 1 second intervales using forward fill\n",
    "bymin.resample(\"S\").bfill()"
   ]
  },
  {
   "cell_type": "code",
   "execution_count": 76,
   "metadata": {},
   "outputs": [
    {
     "data": {
      "text/plain": [
       "2014-08-01 00:00:00     -8.718220\n",
       "2014-08-01 00:00:01     -8.826903\n",
       "2014-08-01 00:00:02     -8.935586\n",
       "2014-08-01 00:00:03     -9.044270\n",
       "2014-08-01 00:00:04     -9.152953\n",
       "                          ...    \n",
       "2014-08-05 23:58:56    453.224110\n",
       "2014-08-05 23:58:57    453.377437\n",
       "2014-08-05 23:58:58    453.530764\n",
       "2014-08-05 23:58:59    453.684090\n",
       "2014-08-05 23:59:00    453.837417\n",
       "Freq: S, Length: 431941, dtype: float64"
      ]
     },
     "execution_count": 76,
     "metadata": {},
     "output_type": "execute_result"
    }
   ],
   "source": [
    "\"\"\"\n",
    "It is also possible to interpolate the missing values using the .interplolate() method on\n",
    "the result. This will calculate a linear interpolation between the values existing in the result\n",
    "for all of the NaN values created during the resampling:\n",
    "\"\"\"\n",
    "# demonstate interoplating the NaN values\n",
    "interpolated = bymin.resample(\"S\").interpolate()\n",
    "interpolated"
   ]
  },
  {
   "cell_type": "code",
   "execution_count": null,
   "metadata": {},
   "outputs": [],
   "source": [
    "\"\"\"\n",
    "pandas also provides a very convenient resampling method referred to as open, high, low,\n",
    "and close, by using the .ohlc() method. \n",
    "The following example takes our second-bysecond data and calculates hour-by-hour ohlc values:\n",
    "\"\"\""
   ]
  }
 ],
 "metadata": {
  "kernelspec": {
   "display_name": "Python 3",
   "language": "python",
   "name": "python3"
  },
  "language_info": {
   "codemirror_mode": {
    "name": "ipython",
    "version": 3
   },
   "file_extension": ".py",
   "mimetype": "text/x-python",
   "name": "python",
   "nbconvert_exporter": "python",
   "pygments_lexer": "ipython3",
   "version": "3.7.6"
  }
 },
 "nbformat": 4,
 "nbformat_minor": 4
}
